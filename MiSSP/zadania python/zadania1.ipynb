{
 "cells": [
  {
   "cell_type": "markdown",
   "metadata": {},
   "source": [
    "#### Poniżej przedstawiono działanie Języka Python"
   ]
  },
  {
   "cell_type": "code",
   "execution_count": 1,
   "metadata": {},
   "outputs": [
    {
     "name": "stdout",
     "output_type": "stream",
     "text": [
      "5\n"
     ]
    }
   ],
   "source": [
    "# komentarz\n",
    "\n",
    "# if\n",
    "\n",
    "wielkosc = 5\n",
    "\n",
    "print(wielkosc)"
   ]
  },
  {
   "cell_type": "code",
   "execution_count": 2,
   "metadata": {},
   "outputs": [
    {
     "name": "stdout",
     "output_type": "stream",
     "text": [
      "w sam raz\n"
     ]
    }
   ],
   "source": [
    "if wielkosc >6:\n",
    "    print(\"ale duze\")\n",
    "elif wielkosc < 3:\n",
    "    print(\"malutkie\")\n",
    "    print('franek')\n",
    "else:\n",
    "    print(\"w sam raz\")"
   ]
  },
  {
   "cell_type": "code",
   "execution_count": 3,
   "metadata": {},
   "outputs": [
    {
     "name": "stdout",
     "output_type": "stream",
     "text": [
      "['Ania', 'Zosia', 'Kasia', 'Franek']\n"
     ]
    }
   ],
   "source": [
    "studenci = [\"Ania\", \"Zosia\", \"Kasia\", \"Franek\"]\n",
    "\n",
    "print(studenci)"
   ]
  },
  {
   "cell_type": "code",
   "execution_count": 16,
   "metadata": {},
   "outputs": [
    {
     "data": {
      "text/plain": [
       "'Ania'"
      ]
     },
     "execution_count": 16,
     "metadata": {},
     "output_type": "execute_result"
    }
   ],
   "source": [
    "studenci[0][1]"
   ]
  },
  {
   "cell_type": "code",
   "execution_count": 18,
   "metadata": {
    "scrolled": true
   },
   "outputs": [
    {
     "name": "stdout",
     "output_type": "stream",
     "text": [
      "student ma na imie: Ania\n",
      "student ma na imie: Zosia\n",
      "student ma na imie: Kasia\n",
      "student ma na imie: Franek\n",
      "Ania\n",
      "student na poczatku alfabetu\n",
      "Zosia\n",
      "Kasia\n",
      "Franek\n"
     ]
    }
   ],
   "source": [
    "for student in studenci:\n",
    "    print(\"student ma na imie:\", student)\n",
    "    \n",
    "for student in studenci:\n",
    "    print(student)\n",
    "    if student[0]==\"A\":\n",
    "        print(\"student na poczatku alfabetu\")"
   ]
  },
  {
   "cell_type": "code",
   "execution_count": 19,
   "metadata": {},
   "outputs": [
    {
     "name": "stdout",
     "output_type": "stream",
     "text": [
      "student Ania ma numer 0\n",
      "student Zosia ma numer 1\n",
      "student Kasia ma numer 2\n",
      "student Franek ma numer 3\n"
     ]
    }
   ],
   "source": [
    "for numer, student in enumerate(studenci):\n",
    "    print(\"student {} ma numer {}\".format(student,numer))"
   ]
  },
  {
   "cell_type": "code",
   "execution_count": 53,
   "metadata": {},
   "outputs": [
    {
     "name": "stdout",
     "output_type": "stream",
     "text": [
      "student Ania ma numer 0 i ocenę 2\n",
      "student Zosia ma numer 1 i ocenę 2\n",
      "student Kasia ma numer 2 i ocenę 5\n",
      "student Franek ma numer 3 i ocenę 3\n",
      "----------------------------------------\n",
      "student Ania ma numer 0 i ocenę 2\n",
      "student Zosia ma numer 1 i ocenę 2\n",
      "student Kasia ma numer 2 i ocenę 5\n",
      "student Franek ma numer 3 i ocenę 3\n"
     ]
    }
   ],
   "source": [
    "oceny = [2,2,5,3]\n",
    "\n",
    "for numer, student in enumerate(studenci):\n",
    "    print(\"student {} ma numer {} i ocenę {}\".format(student,numer,oceny[numer]))\n",
    "\n",
    "print(\"--\"*20)    \n",
    "for number, (student, ocena) in enumerate(zip(studenci,oceny)):\n",
    "    print(\"student {} ma numer {} i ocenę {}\".format(student,number,ocena))"
   ]
  },
  {
   "cell_type": "code",
   "execution_count": 25,
   "metadata": {},
   "outputs": [],
   "source": [
    "trzy_elementy= [1,2,3]\n",
    "pierwszy,drugi,trzeci= trzy_elementy"
   ]
  },
  {
   "cell_type": "code",
   "execution_count": 27,
   "metadata": {},
   "outputs": [
    {
     "name": "stdout",
     "output_type": "stream",
     "text": [
      "1\n",
      "2\n",
      "3\n",
      "4\n",
      "5\n",
      "6\n",
      "7\n",
      "8\n",
      "9\n"
     ]
    }
   ],
   "source": [
    "n = 1\n",
    "\n",
    "while(n < 10):\n",
    "    print(n)\n",
    "    n+=1"
   ]
  },
  {
   "cell_type": "code",
   "execution_count": 31,
   "metadata": {},
   "outputs": [],
   "source": [
    "def dodaj_dwa(liczba):\n",
    "    return liczba+2\n",
    "\n",
    "def dodaj_trzy(liczba):\n",
    "    return liczba+3\n",
    "\n",
    "def dodaj_dwie_liczby(liczba1,liczba2)\n",
    "    return liczba1+liczba2\n",
    "\n",
    "\n",
    "dodaj_cztery = lambda liczba:liczba+4"
   ]
  },
  {
   "cell_type": "code",
   "execution_count": 32,
   "metadata": {},
   "outputs": [
    {
     "name": "stdout",
     "output_type": "stream",
     "text": [
      "12\n",
      "13\n",
      "14\n"
     ]
    }
   ],
   "source": [
    "funkcje=[dodaj_dwa,dodaj_trzy,dodaj_cztery]\n",
    "\n",
    "jakis_nr= 10\n",
    "\n",
    "for funkcja in funkcje:\n",
    "    print(funkcja(jakis_nr))"
   ]
  },
  {
   "cell_type": "code",
   "execution_count": 35,
   "metadata": {},
   "outputs": [
    {
     "data": {
      "text/plain": [
       "['Ania', 'Zosia', 'Kasia']"
      ]
     },
     "execution_count": 35,
     "metadata": {},
     "output_type": "execute_result"
    }
   ],
   "source": [
    "studenci[0]\n",
    "studenci[1:]\n",
    "studenci[:-1]"
   ]
  },
  {
   "cell_type": "markdown",
   "metadata": {},
   "source": [
    "## challenge nr 1 "
   ]
  },
  {
   "cell_type": "code",
   "execution_count": 2,
   "metadata": {},
   "outputs": [],
   "source": [
    "#1 defininiwanie zmiennych\n",
    "\n",
    "zajecia = [\"wf\",\"informatyka\",\"relax\",\"mispy\",\"piateczek\"]\n",
    "\n",
    "dnityg= [\"Pon\",\"Wto\",\"Sro\",\"Czwar\",\"Pio\"]\n",
    "\n",
    "\n",
    "\n"
   ]
  },
  {
   "cell_type": "code",
   "execution_count": 3,
   "metadata": {},
   "outputs": [
    {
     "name": "stdout",
     "output_type": "stream",
     "text": [
      "relax\n",
      "mispy\n",
      "piateczek\n"
     ]
    }
   ],
   "source": [
    "# wyprintuj zajecia od srody do piatku\n",
    "for a,b in enumerate(zajecia):\n",
    "    if a >1:\n",
    "        print(zajecia[a])\n"
   ]
  },
  {
   "cell_type": "code",
   "execution_count": 4,
   "metadata": {},
   "outputs": [
    {
     "name": "stdout",
     "output_type": "stream",
     "text": [
      "wf--Pon\n",
      "informatyka--Wto\n",
      "mispy--Czwar\n",
      "piateczek--Pio\n"
     ]
    }
   ],
   "source": [
    "# wyprintuj oprocz srody\n",
    "\n",
    "for a,b in enumerate(zajecia):\n",
    "    if a == 2:\n",
    "        continue\n",
    "    print (zajecia[a], dnityg[a], sep=\"--\")"
   ]
  },
  {
   "cell_type": "markdown",
   "metadata": {},
   "source": [
    "## challenge nr 2 \n",
    "\n"
   ]
  },
  {
   "cell_type": "code",
   "execution_count": 5,
   "metadata": {},
   "outputs": [],
   "source": [
    "# definiocwanie zmiennych\n",
    "\n",
    "zajecia = [[\"wf\"],\n",
    "           [\"informatyka\", \"nauka czytania\"],\n",
    "           [\"relax\", \"jedzenie\"],\n",
    "           [\"mispy\",\"mispy w domu\"],\n",
    "           [\"piateczek\", \"praca domowa z mispow\", \"Ilovemispy\", \"mispy w czasie snu\"]\n",
    "          ]\n",
    "\n",
    "dnityg= [\"Pon\",\"Wto\",\"Sro\",\"Czwar\",\"Pio\"]\n"
   ]
  },
  {
   "cell_type": "code",
   "execution_count": 6,
   "metadata": {},
   "outputs": [
    {
     "name": "stdout",
     "output_type": "stream",
     "text": [
      "2\n"
     ]
    }
   ],
   "source": [
    "\n",
    "# zdefiniuj funkcje ktora poda ile jest zajec danego dnia\n",
    "# lista_zajec_z_dnia -> ile ich jest\n",
    "def ile(dzien):\n",
    "    for a, b in enumerate(dnityg):\n",
    "        if b == dzien:\n",
    "            zmienna = a\n",
    "    \n",
    "    return len(zajecia[zmienna]) \n",
    "\n",
    "print(ile(\"Wto\"))\n"
   ]
  },
  {
   "cell_type": "code",
   "execution_count": 7,
   "metadata": {},
   "outputs": [
    {
     "name": "stdout",
     "output_type": "stream",
     "text": [
      "['Pio', 'Wto', 'Sro', 'Czwar', 'Pon']\n"
     ]
    }
   ],
   "source": [
    "\n",
    "# posortuj dni po najbardziej zajetych\n",
    "\n",
    "print(sorted(dnityg, key=ile, reverse = True))\n",
    "    "
   ]
  },
  {
   "cell_type": "markdown",
   "metadata": {},
   "source": [
    "\n",
    "## challenge nr 3\n",
    "\n",
    "    "
   ]
  },
  {
   "cell_type": "code",
   "execution_count": 8,
   "metadata": {},
   "outputs": [
    {
     "name": "stdout",
     "output_type": "stream",
     "text": [
      "['piateczek', 'praca domowa z mispow', 'Ilovemispy', 'mispy w czasie snu']\n",
      "[('Pon', ['wf']), ('Wto', ['informatyka', 'nauka czytania']), ('Sro', ['relax', 'jedzenie']), ('Czwar', ['mispy', 'mispy w domu']), ('Pio', ['piateczek', 'praca domowa z mispow', 'Ilovemispy', 'mispy w czasie snu'])]\n",
      "Pio\n"
     ]
    }
   ],
   "source": [
    "# napisz program ktory zdajdzie dzien z najwieksza iloscia mispow\n",
    "#ile jest mispow\n",
    "#policzyc kazdego dnia\n",
    "#pokazac maksymalny dzien\n",
    "\n",
    "def ile_mispow(plan_dnia):\n",
    "    ilosc_mispow = 0\n",
    "    for zajecie in plan_dnia:\n",
    "        if \"misp\" in zajecie:\n",
    "            ilosc_mispow +=1\n",
    "    \n",
    "    return ilosc_mispow\n",
    "\n",
    "print(max(zajecia, key = ile_mispow))\n",
    "print(list(zip(dnityg,zajecia)))\n",
    "print(max(zip(dnityg,zajecia), key = lambda para: ile_mispow(para[1]))[0])"
   ]
  }
 ],
 "metadata": {
  "kernelspec": {
   "display_name": "Python 3",
   "language": "python",
   "name": "python3"
  },
  "language_info": {
   "codemirror_mode": {
    "name": "ipython",
    "version": 3
   },
   "file_extension": ".py",
   "mimetype": "text/x-python",
   "name": "python",
   "nbconvert_exporter": "python",
   "pygments_lexer": "ipython3",
   "version": "3.8.3"
  }
 },
 "nbformat": 4,
 "nbformat_minor": 2
}
