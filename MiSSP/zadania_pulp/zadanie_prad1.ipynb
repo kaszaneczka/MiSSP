{
 "cells": [
  {
   "cell_type": "code",
   "execution_count": null,
   "metadata": {},
   "outputs": [],
   "source": [
    "from pulp import *\n",
    "\n",
    "maksimum_jablek_slider = IntSlider(min=0,max = 200,value= 40, description=\"maksimum_jablek_slider\", style= style )\n",
    "maksimum_miodu_slider = FloatSlider(min=0,max = 200,value= 25, description=\"maksimum_miodu_slider\", style= style )\n",
    "\n",
    "problem = LpProblem(\"maksymalizacja zysków z okien\",LpMaximize)\n",
    "x1 = LpVariable(\"aluminowe\",0, None, LpInteger)\n",
    "x2 = LpVariable(\"drewniane\",0,None, LpInteger)\n",
    "\n",
    "\n",
    "\n",
    "\n",
    "problem += 3*x1 + 5*x2,\"total profit\"\n",
    "problem += 1*x1 + 0*x2 <= 4,\"godziny pracy f1\"\n",
    "problem += 0*x1 + 2*x2 <= 12,\"godziny pracy f2\"\n",
    "problem += 3*x1 + 2*x2 <= 18,\"godziny pracy f3\"\n",
    "\n",
    "problem.writeLP(\"okno.lp\")\n",
    "problem.solve()\n",
    "print(\"Status:\", LpStatus[problem.status])\n",
    "for v in problem.variables():\n",
    "    print(v.name, \"=\", v.varValue)\n",
    "print(\"Total profit per week= \", value(problem.objective)*1000, \"$\")\n",
    "\n",
    "\n"
   ]
  },
  {
   "cell_type": "code",
   "execution_count": 9,
   "metadata": {},
   "outputs": [
    {
     "name": "stdout",
     "output_type": "stream",
     "text": [
      "Status: Optimal\n",
      "prad_r1 = 1.71429\n",
      "prad_r2 = 2.28571\n",
      "prad_r3 = 4.0\n",
      "Max current = 4.0 A\n"
     ]
    }
   ],
   "source": [
    "from pulp import *\n",
    "\n",
    "problem = LpProblem(\"max prad\",LpMaximize)\n",
    "i1 = LpVariable(\"prad r1\",0)\n",
    "i2 = LpVariable(\"prad r2\",0)\n",
    "i3 = LpVariable(\"prad r3\",0)\n",
    "i4 = LpVariable(\"prad r4\",0)\n",
    "i5 = LpVariable(\"prad r5\",0)\n",
    "\n",
    "\n",
    "problem += i3,\"total current\"\n",
    "\n",
    "\n",
    "\n",
    "problem += i1 <= 2,\"ograniczenie pradu r1\"\n",
    "problem += i2 <= 3,\"ograniczenie pradu r2\"\n",
    "problem += i3 <= 4,\"ograniczenie pradu r3\"\n",
    "#problem += i4 <= 2,\"ograniczenie pradu r4\"\n",
    "#problem += i5 <= 2,\"ograniczenie pradu r5\"\n",
    "\n",
    "problem += i1*8 == i2*6, \"U na pierwszym oczku\"\n",
    "#problem += i4*10 == i5*8, \"U na drugim oczku\"\n",
    "\n",
    "problem += i1+i2 == i3,\"suma pradow pierwsze oczko\"\n",
    "#problem += i4+i5 == i3,\"suma pradow drugie oczko\"\n",
    "\n",
    "\n",
    "problem.writeLP(\"prad1.lp\")\n",
    "problem.solve()\n",
    "print(\"Status:\", LpStatus[problem.status])\n",
    "for v in problem.variables():\n",
    "    print(v.name, \"=\", v.varValue)\n",
    "print(\"Max current =\", value(problem.objective), \"A\")\n",
    "\n"
   ]
  }
 ],
 "metadata": {
  "kernelspec": {
   "display_name": "Python 3",
   "language": "python",
   "name": "python3"
  },
  "language_info": {
   "codemirror_mode": {
    "name": "ipython",
    "version": 3
   },
   "file_extension": ".py",
   "mimetype": "text/x-python",
   "name": "python",
   "nbconvert_exporter": "python",
   "pygments_lexer": "ipython3",
   "version": "3.8.3"
  }
 },
 "nbformat": 4,
 "nbformat_minor": 4
}
