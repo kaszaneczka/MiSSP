{
 "cells": [
  {
   "cell_type": "code",
   "execution_count": 19,
   "metadata": {},
   "outputs": [
    {
     "name": "stdout",
     "output_type": "stream",
     "text": [
      "Status: Optimal\n",
      "prad_1 = 0.003\n",
      "rezystancja = 2.0 K*ohm\n",
      "prad_2 = 0.001\n",
      "rezystancja = 6.0 K*ohm\n",
      "prad_3 = 0.002\n",
      "rezystancja = 3.0 K*ohm\n",
      "prad_4 = 0.001\n",
      "rezystancja = 6.0 K*ohm\n",
      "prad_5 = 0.003\n",
      "rezystancja = 2.0 K*ohm\n",
      "moc rozproszona =  0.052000000000000005 W\n"
     ]
    }
   ],
   "source": [
    "from pulp import *\n",
    "\n",
    "\n",
    "\n",
    "problem = LpProblem(\"minimalizacja mocy\",LpMinimize)\n",
    "i1 = LpVariable(\"prad 1\",0,)\n",
    "i2 = LpVariable(\"prad 2\",0,)\n",
    "i3 = LpVariable(\"prad 3\",0,)\n",
    "i4 = LpVariable(\"prad 4\",0,)\n",
    "i5 = LpVariable(\"prad 5\",0,)\n",
    "\n",
    "\n",
    "\n",
    "problem += i1*6 + i2*10 + i3*4 + i4*7 + i5*3 ,\"total profit\"\n",
    "problem += i1 <= 0.005,\"gorna granica I1\"\n",
    "problem += i2 <= 0.003,\"gorna granica I2\"\n",
    "problem += i3 <= 0.003,\"gorna granica I3\"\n",
    "problem += i4 <= 0.003,\"gorna granica I4\"\n",
    "problem += i5 <= 0.005,\"gorna granica I5\"\n",
    "\n",
    "problem += i1 >= 0.003,\"dolna granica I1\"\n",
    "problem += i2 >= 0.001,\"dolna granica I2\"\n",
    "problem += i3 >= 0.001,\"dolna granica I3\"\n",
    "problem += i4 >= 0.001,\"dolna granica I4\"\n",
    "problem += i5 >= 0.003,\"dolna granica I5\"\n",
    "\n",
    "problem += i4 + i3 == i1,\"suma 1\"\n",
    "problem += i3 + i2 == i5,\"suma 2\"\n",
    "problem += i1 + i2 == i4 + i5,\"suma 3\"\n",
    "\n",
    "problem.writeLP(\"prad.lp\")\n",
    "problem.solve()\n",
    "print(\"Status:\", LpStatus[problem.status])\n",
    "for v in problem.variables():\n",
    "    print(v.name, \"=\", v.varValue)\n",
    "    print(\"rezystancja =\", 6.0/(v.varValue*1000), \"K*ohm\")\n",
    "print(\"moc rozproszona = \", value(problem.objective), \"W\")\n",
    "\n",
    "\n"
   ]
  }
 ],
 "metadata": {
  "kernelspec": {
   "display_name": "Python 3",
   "language": "python",
   "name": "python3"
  },
  "language_info": {
   "codemirror_mode": {
    "name": "ipython",
    "version": 3
   },
   "file_extension": ".py",
   "mimetype": "text/x-python",
   "name": "python",
   "nbconvert_exporter": "python",
   "pygments_lexer": "ipython3",
   "version": "3.8.3"
  }
 },
 "nbformat": 4,
 "nbformat_minor": 4
}
