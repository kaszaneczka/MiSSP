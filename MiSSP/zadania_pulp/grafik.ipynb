{
 "cells": [
  {
   "cell_type": "code",
   "execution_count": 6,
   "metadata": {},
   "outputs": [
    {
     "name": "stdout",
     "output_type": "stream",
     "text": [
      "ania_pia = 1\n",
      "ania_pon = 1\n",
      "lidia_czw = 1\n",
      "lidia_pia = 1\n",
      "olaf_pia = 1\n",
      "olaf_sr = 1\n",
      "olaf_wto = 1\n",
      "stefan_pon = 1\n",
      "Koszta  4720  zł\n"
     ]
    }
   ],
   "source": [
    "from pulp import *\n",
    "prob = pulp.LpProblem(\"grafik\", LpMinimize)\n",
    "\n",
    "\n",
    "# Stawki poszczególnych pracowników\n",
    "ania = 100\n",
    "stefan = 50\n",
    "hektor = 60\n",
    "olaf = 40\n",
    "lidia = 110\n",
    "piotr = 70\n",
    "\n",
    "# Dni w których pracownicy są dyspozycyjni i mogą przyjść do pracy\n",
    "ania_pon=pulp.LpVariable(\"ania_pon\",0,1, LpInteger)\n",
    "ania_wt=pulp.LpVariable(\"ania_wto\",0,1, LpInteger)\n",
    "ania_sr=pulp.LpVariable(\"ania_sr\",0,1, LpInteger)\n",
    "ania_czw=pulp.LpVariable(\"ania_czw\",0,1, LpInteger)\n",
    "ania_pt=pulp.LpVariable(\"ania_pia\",0,1, LpInteger)\n",
    "stefan_pon=pulp.LpVariable(\"stefan_pon\",0,1, LpInteger)\n",
    "hektor_pon=pulp.LpVariable(\"hektor_pon\",0,1, LpInteger)\n",
    "hektor_wt=pulp.LpVariable(\"hektor_wto\",0,1, LpInteger)\n",
    "hektor_sr=pulp.LpVariable(\"hektor_sro\",0,1, LpInteger)\n",
    "olaf_pon=pulp.LpVariable(\"olaf_pon\",0,1, LpInteger)\n",
    "olaf_wt=pulp.LpVariable(\"olaf_wto\",0,1, LpInteger)\n",
    "olaf_sr=pulp.LpVariable(\"olaf_sr\",0,1, LpInteger)\n",
    "olaf_czw=pulp.LpVariable(\"olaf_czw\",0,1, LpInteger)\n",
    "olaf_pt=pulp.LpVariable(\"olaf_pia\",0,1, LpInteger)\n",
    "lidia_czw=pulp.LpVariable(\"lidia_czw\",0,1, LpInteger)\n",
    "lidia_pt=pulp.LpVariable(\"lidia_pia\",0,1, LpInteger)\n",
    "piotr_pon=pulp.LpVariable(\"piotr_pon\",0,1, LpInteger)\n",
    "piotr_wt=pulp.LpVariable(\"piotr_wto\",0,1, LpInteger)\n",
    "piotr_sr=pulp.LpVariable(\"piotr_sr\",0,1, LpInteger)\n",
    "\n",
    "# Funkcja optymalizacji\n",
    "prob += (ania*(ania+ania+ania+ania+ania)+stefan*(stefan)+hektor*(hektor+hektor+hektor)+olaf*(olaf+olaf+olaf+olaf+olaf)+lidia*(lidia+lidia)+piotr*(piotr+piotr+piotr))\n",
    "\n",
    "# warunki które muszą byc spelnione, okreslajace ile osob musi byc danego dnia w sklepie\n",
    "prob += ania_pon+stefan_pon+hektor_pon+olaf_pon+piotr_pon == 2\n",
    "prob += ania_wt+ania_wt+olaf_wt+piotr_wt == 1\n",
    "prob += ania_sr+hektor_sr+olaf_sr+piotr_sr == 1\n",
    "prob += ania_czw+olaf_czw+lidia_czw == 1\n",
    "prob += ania_pt+olaf_pt+lidia_pt == 3\n",
    "\n",
    "# ograniczenie pojdeynczych pracownikow\n",
    "prob += ania_pon+ania_wt+ania_sr+ania_czw+ania_pt <=3\n",
    "prob += stefan_pon <= 3\n",
    "prob += hektor_pon+hektor_wt+hektor_sr <= 3\n",
    "prob += olaf_pon+olaf_wt+olaf_sr+olaf_czw+olaf_pt <= 3\n",
    "prob += lidia_czw+lidia_pt <= 3\n",
    "prob += piotr_pon+piotr_wt+piotr_sr <= 3\n",
    "\n",
    "#wyswietlanie\n",
    "prob.solve()\n",
    "for variable in prob.variables():\n",
    "    if(variable.varValue == 1):\n",
    "        print (variable.name, \"=\", variable.varValue)\n",
    "\n",
    "cena_pracy = ania*(ania_pon.value()+ania_wt.value()+ania_sr.value()+ania_czw.value()+ania_pt.value()) +stefan*(stefan_pon.value())+hektor*(hektor_pon.value()+hektor_wt.value()+hektor_sr.value())+olaf*(olaf_pon.value()+olaf_wt.value()+olaf_sr.value()+olaf_czw.value()+olaf_pt.value())+lidia*(lidia_czw.value()+lidia_pt.value())+piotr*(piotr_pon.value()+piotr_wt.value()+piotr_sr.value())\n",
    "print(\"Koszta \",cena_pracy* 8,\" zł\")"
   ]
  }
 ],
 "metadata": {
  "kernelspec": {
   "display_name": "Python 3",
   "language": "python",
   "name": "python3"
  },
  "language_info": {
   "codemirror_mode": {
    "name": "ipython",
    "version": 3
   },
   "file_extension": ".py",
   "mimetype": "text/x-python",
   "name": "python",
   "nbconvert_exporter": "python",
   "pygments_lexer": "ipython3",
   "version": "3.8.3"
  }
 },
 "nbformat": 4,
 "nbformat_minor": 4
}
