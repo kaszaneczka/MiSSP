{
 "cells": [
  {
   "cell_type": "code",
   "execution_count": 2,
   "metadata": {},
   "outputs": [
    {
     "data": {
      "application/vnd.jupyter.widget-view+json": {
       "model_id": "a48a98cb165e4e0cb5626a98f266e192",
       "version_major": 2,
       "version_minor": 0
      },
      "text/plain": [
       "interactive(children=(IntSlider(value=4, description='czas_aluminium_f1', max=4, min=1, style=SliderStyle(desc…"
      ]
     },
     "metadata": {},
     "output_type": "display_data"
    },
    {
     "data": {
      "text/plain": [
       "<function __main__.prod(alu=1, drew=1, aludrew1=1, aludrew2=1)>"
      ]
     },
     "execution_count": 2,
     "metadata": {},
     "output_type": "execute_result"
    }
   ],
   "source": [
    "from pulp import *\n",
    "from __future__ import print_function\n",
    "from ipywidgets import interact, interactive, fixed, interact_manual, Layout, FloatSlider, IntSlider\n",
    "import ipywidgets as widgets\n",
    "import pandas as pd\n",
    "\n",
    "style = {'description_width': 'initial'}\n",
    "\n",
    "alu_slider = IntSlider(min=1,max = 4,value= 40, description=\"czas_aluminium_f1\", style= style )\n",
    "drew_slider = IntSlider(min=1,max = 12,value= 25, description=\"czas_drewna_f2\", style= style )\n",
    "aludrew1_slider = IntSlider(min=0,max = 18,value= 25, description=\"czas_montowania1\", style= style )\n",
    "aludrew2_slider = IntSlider(min=0,max = 18,value= 25, description=\"czas_montowania2\", style= style )\n",
    "\n",
    "def prod(alu = 1, drew = 1, aludrew1 = 1, aludrew2 = 1):\n",
    "    \n",
    "    problem = LpProblem(\"maksymalizacja_zysków_z_okien\",LpMaximize)\n",
    "    x1 = LpVariable(\"aluminowe\",0, None, LpInteger)\n",
    "    x2 = LpVariable(\"drewniane\",0,None, LpInteger)\n",
    "\n",
    "\n",
    "\n",
    "\n",
    "    problem += 3*x1 + 5*x2,\"total_profit\"\n",
    "    problem += x1*alu + 0*x2*drew <= 4,\"godziny_pracy_f1\"\n",
    "    problem += 0*x1*alu + x2*drew <= 12,\"godziny_pracy_f2\"\n",
    "    problem += x1*aludrew1 + x2*aludrew2 <= 18,\"godziny_pracy_f3\"\n",
    "\n",
    "    problem.writeLP(\"okno.lp\")\n",
    "    problem.solve()\n",
    "    print(\"Status:\", LpStatus[problem.status])\n",
    "    for v in problem.variables():\n",
    "        print(v.name, \"=\", v.varValue)\n",
    "    print(\"Total profit per week= \", value(problem.objective)*1000, \"$\")\n",
    "    shadows = [{'name':name, 'shadow price': c.pi, \"slack\": c.slack} for name, c in problem.constraints.items()]\n",
    "    print(\"*\"*10+\"Shadow Prices\"+\"*\"*10)\n",
    "    print(pd.DataFrame(shadows))\n",
    "    \n",
    "\n",
    "interact(prod,alu = alu_slider, drew = drew_slider, aludrew1 = aludrew1_slider,aludrew2 = aludrew2_slider )\n",
    "\n",
    "\n",
    "\n"
   ]
  }
 ],
 "metadata": {
  "kernelspec": {
   "display_name": "Python 3",
   "language": "python",
   "name": "python3"
  },
  "language_info": {
   "codemirror_mode": {
    "name": "ipython",
    "version": 3
   },
   "file_extension": ".py",
   "mimetype": "text/x-python",
   "name": "python",
   "nbconvert_exporter": "python",
   "pygments_lexer": "ipython3",
   "version": "3.8.3"
  }
 },
 "nbformat": 4,
 "nbformat_minor": 4
}
